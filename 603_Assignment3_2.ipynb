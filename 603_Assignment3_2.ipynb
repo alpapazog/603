{
  "nbformat": 4,
  "nbformat_minor": 0,
  "metadata": {
    "colab": {
      "provenance": []
    },
    "kernelspec": {
      "name": "python3",
      "display_name": "Python 3"
    },
    "language_info": {
      "name": "python"
    }
  },
  "cells": [
    {
      "cell_type": "markdown",
      "source": [
        "# a)"
      ],
      "metadata": {
        "id": "ypebRgmtBx_m"
      }
    },
    {
      "cell_type": "code",
      "execution_count": 1,
      "metadata": {
        "id": "PZ6EaBI7eI9v"
      },
      "outputs": [],
      "source": [
        "import pandas as pd\n",
        "import numpy as np"
      ]
    },
    {
      "cell_type": "code",
      "source": [
        "pizza = pd.read_csv('Pizza.csv')"
      ],
      "metadata": {
        "id": "4_cXMbiFebju"
      },
      "execution_count": 2,
      "outputs": []
    },
    {
      "cell_type": "code",
      "source": [
        "pizza.columns"
      ],
      "metadata": {
        "colab": {
          "base_uri": "https://localhost:8080/"
        },
        "id": "2AAkf_2bgEK_",
        "outputId": "c977dbbc-eb95-4557-bc89-c02d4ebf79f6"
      },
      "execution_count": 3,
      "outputs": [
        {
          "output_type": "execute_result",
          "data": {
            "text/plain": [
              "Index(['brand', 'id', 'mois', 'prot', 'fat', 'ash', 'sodium', 'carb', 'cal'], dtype='object')"
            ]
          },
          "metadata": {},
          "execution_count": 3
        }
      ]
    },
    {
      "cell_type": "code",
      "source": [
        "feat = pizza[pizza.columns[2:9]]\n",
        "feat.mean()"
      ],
      "metadata": {
        "colab": {
          "base_uri": "https://localhost:8080/",
          "height": 304
        },
        "id": "fcMeFD-eeysC",
        "outputId": "b06e1aae-2966-4578-c18e-7f635eebf870"
      },
      "execution_count": 4,
      "outputs": [
        {
          "output_type": "execute_result",
          "data": {
            "text/plain": [
              "mois      40.903067\n",
              "prot      13.373567\n",
              "fat       20.229533\n",
              "ash        2.633233\n",
              "sodium     0.669400\n",
              "carb      22.864767\n",
              "cal        3.271000\n",
              "dtype: float64"
            ],
            "text/html": [
              "<div>\n",
              "<style scoped>\n",
              "    .dataframe tbody tr th:only-of-type {\n",
              "        vertical-align: middle;\n",
              "    }\n",
              "\n",
              "    .dataframe tbody tr th {\n",
              "        vertical-align: top;\n",
              "    }\n",
              "\n",
              "    .dataframe thead th {\n",
              "        text-align: right;\n",
              "    }\n",
              "</style>\n",
              "<table border=\"1\" class=\"dataframe\">\n",
              "  <thead>\n",
              "    <tr style=\"text-align: right;\">\n",
              "      <th></th>\n",
              "      <th>0</th>\n",
              "    </tr>\n",
              "  </thead>\n",
              "  <tbody>\n",
              "    <tr>\n",
              "      <th>mois</th>\n",
              "      <td>40.903067</td>\n",
              "    </tr>\n",
              "    <tr>\n",
              "      <th>prot</th>\n",
              "      <td>13.373567</td>\n",
              "    </tr>\n",
              "    <tr>\n",
              "      <th>fat</th>\n",
              "      <td>20.229533</td>\n",
              "    </tr>\n",
              "    <tr>\n",
              "      <th>ash</th>\n",
              "      <td>2.633233</td>\n",
              "    </tr>\n",
              "    <tr>\n",
              "      <th>sodium</th>\n",
              "      <td>0.669400</td>\n",
              "    </tr>\n",
              "    <tr>\n",
              "      <th>carb</th>\n",
              "      <td>22.864767</td>\n",
              "    </tr>\n",
              "    <tr>\n",
              "      <th>cal</th>\n",
              "      <td>3.271000</td>\n",
              "    </tr>\n",
              "  </tbody>\n",
              "</table>\n",
              "</div><br><label><b>dtype:</b> float64</label>"
            ]
          },
          "metadata": {},
          "execution_count": 4
        }
      ]
    },
    {
      "cell_type": "markdown",
      "source": [
        "# b)"
      ],
      "metadata": {
        "id": "pFc5yw2CB4Hv"
      }
    },
    {
      "cell_type": "code",
      "source": [
        "scatter_matrix = np.cov(feat.T)*299\n",
        "print(\"Scatter Matrix:\")\n",
        "print(scatter_matrix)"
      ],
      "metadata": {
        "colab": {
          "base_uri": "https://localhost:8080/"
        },
        "id": "YTfiUGvugsEz",
        "outputId": "d9cb1077-f6ea-427b-8134-348063b11af1"
      },
      "execution_count": 5,
      "outputs": [
        {
          "output_type": "stream",
          "name": "stdout",
          "text": [
            "Scatter Matrix:\n",
            "[[ 2.72866066e+04  6.62093142e+03 -4.39218077e+03  9.63107725e+02\n",
            "  -1.08197648e+02 -3.04772357e+04 -1.35384752e+03]\n",
            " [ 6.62093142e+03  1.23790201e+04  8.59955220e+03  2.01248534e+03\n",
            "   3.05765542e+02 -2.96068904e+04  8.38090300e+01]\n",
            " [-4.39218077e+03  8.59955220e+03  2.40881701e+04  2.69755985e+03\n",
            "   9.27666616e+02 -3.09790504e+04  1.27223924e+03]\n",
            " [ 9.63107725e+02  2.01248534e+03  2.69755985e+03  4.82047164e+02\n",
            "   1.13626282e+02 -6.15351802e+03  7.68488300e+01]\n",
            " [-1.08197648e+02  3.05765542e+02  9.27666616e+02  1.13626282e+02\n",
            "   4.10122920e+01 -1.23821724e+03  4.61370800e+01]\n",
            " [-3.04772357e+04 -2.96068904e+04 -3.09790504e+04 -6.15351802e+03\n",
            "  -1.23821724e+03  9.71961967e+04 -7.84980300e+01]\n",
            " [-1.35384752e+03  8.38090300e+01  1.27223924e+03  7.68488300e+01\n",
            "   4.61370800e+01 -7.84980300e+01  1.14948300e+02]]\n"
          ]
        }
      ]
    },
    {
      "cell_type": "code",
      "source": [
        "from sklearn.decomposition import PCA\n",
        "pca = PCA(n_components=2)\n",
        "pca.fit(feat)\n",
        "\n",
        "# Get the first two principal components\n",
        "w1 = pca.components_[0]\n",
        "w2 = pca.components_[1]\n",
        "print(\"First Principal Component (w1):\")\n",
        "print(w1)\n",
        "print(\"Second Principal Component (w2):\")\n",
        "print(w2)"
      ],
      "metadata": {
        "colab": {
          "base_uri": "https://localhost:8080/"
        },
        "id": "7RyqmIXDhkFT",
        "outputId": "9c38a341-9c8b-475f-972d-d72f2e4bff24"
      },
      "execution_count": 6,
      "outputs": [
        {
          "output_type": "stream",
          "name": "stdout",
          "text": [
            "First Principal Component (w1):\n",
            "[-2.76963426e-01 -2.66941457e-01 -2.78933559e-01 -5.54340960e-02\n",
            " -1.11416057e-02  8.78084364e-01 -6.03287596e-04]\n",
            "Second Principal Component (w2):\n",
            "[ 0.74707368 -0.05573295 -0.65784531 -0.04060421 -0.02381376  0.00681755\n",
            " -0.06125383]\n"
          ]
        }
      ]
    },
    {
      "cell_type": "markdown",
      "source": [
        "# c)"
      ],
      "metadata": {
        "id": "EJUiM4B8ClDh"
      }
    },
    {
      "cell_type": "code",
      "source": [
        "projections = pca.transform(feat)\n",
        "xk_approximations = pca.inverse_transform(projections)\n",
        "\n",
        "print('sample 1')\n",
        "print(pd.DataFrame({'original sample': feat.iloc[0], 'approx sample': xk_approximations[0], 'difference': feat.iloc[0] - xk_approximations[0]}, index=feat.columns))\n",
        "print('sample 2')\n",
        "print(pd.DataFrame({'original sample': feat.iloc[1], 'approx sample': xk_approximations[1], 'difference': feat.iloc[1] - xk_approximations[1]}, index=feat.columns))"
      ],
      "metadata": {
        "colab": {
          "base_uri": "https://localhost:8080/"
        },
        "id": "3NO0HkggiD19",
        "outputId": "64bffdd3-8e52-46b2-e1a4-ba3d641e7da7"
      },
      "execution_count": 7,
      "outputs": [
        {
          "output_type": "stream",
          "name": "stdout",
          "text": [
            "sample 1\n",
            "        original sample  approx sample  difference\n",
            "mois              27.82      27.783497    0.036503\n",
            "prot              21.43      21.528516   -0.098516\n",
            "fat               44.87      44.827343    0.042657\n",
            "ash                5.11       5.105078    0.004922\n",
            "sodium             1.77       1.585889    0.184111\n",
            "carb               0.77       0.772237   -0.002237\n",
            "cal                4.93       4.928370    0.001630\n",
            "sample 2\n",
            "        original sample  approx sample  difference\n",
            "mois              28.49      28.550099   -0.060099\n",
            "prot              21.26      21.373606   -0.113606\n",
            "fat               43.89      43.974663   -0.084663\n",
            "ash                5.34       5.039462    0.300538\n",
            "sodium             1.79       1.554668    0.235332\n",
            "carb               1.02       1.078440   -0.058440\n",
            "cal                4.84       4.857595   -0.017595\n"
          ]
        }
      ]
    },
    {
      "cell_type": "markdown",
      "source": [
        "# d)"
      ],
      "metadata": {
        "id": "uk9qhy2sCswQ"
      }
    },
    {
      "cell_type": "code",
      "source": [
        "from sklearn.preprocessing import StandardScaler\n",
        "scaler = StandardScaler()\n",
        "scaler.fit(feat)\n",
        "stdrizedFeat = scaler.transform(feat)"
      ],
      "metadata": {
        "id": "QYwiKvU8C9Ts"
      },
      "execution_count": 8,
      "outputs": []
    },
    {
      "cell_type": "code",
      "source": [
        "scatter_matrix = np.cov(stdrizedFeat.T)*299\n",
        "print(\"Scatter Matrix:\")\n",
        "print(scatter_matrix)\n"
      ],
      "metadata": {
        "colab": {
          "base_uri": "https://localhost:8080/"
        },
        "id": "Myf15crUEKFG",
        "outputId": "e9e6d729-3378-4f5c-edb5-6d54f6f66194"
      },
      "execution_count": 9,
      "outputs": [
        {
          "output_type": "stream",
          "name": "stdout",
          "text": [
            "Scatter Matrix:\n",
            "[[ 300.          108.07430359  -51.39546402   79.66665647  -30.68366905\n",
            "  -177.54049567 -229.33216314]\n",
            " [ 108.07430359  300.          149.40050071  247.15311048  128.73885491\n",
            "  -256.06267693   21.07743015]\n",
            " [ -51.39546402  149.40050071  300.          237.4901891   279.99756676\n",
            "  -192.07145037  229.37012955]\n",
            " [  79.66665647  247.15311048  237.4901891   300.          242.43664461\n",
            "  -269.69651228   97.94053506]\n",
            " [ -30.68366905  128.73885491  279.99756676  242.43664461  300.\n",
            "  -186.05290094  201.58725106]\n",
            " [-177.54049567 -256.06267693 -192.07145037 -269.69651228 -186.05290094\n",
            "   300.           -7.04537478]\n",
            " [-229.33216314   21.07743015  229.37012955   97.94053506  201.58725106\n",
            "    -7.04537478  300.        ]]\n"
          ]
        }
      ]
    },
    {
      "cell_type": "code",
      "source": [
        "\n",
        "pca = PCA(n_components=2)\n",
        "pca.fit(stdrizedFeat)\n",
        "\n",
        "# Get the first two principal components\n",
        "w1 = pca.components_[0]\n",
        "w2 = pca.components_[1]\n",
        "print(\"First Principal Component (w1):\")\n",
        "print(w1)\n",
        "print(\"Second Principal Component (w2):\")\n",
        "print(w2)"
      ],
      "metadata": {
        "colab": {
          "base_uri": "https://localhost:8080/"
        },
        "id": "fKHFblVBEzej",
        "outputId": "e7075161-699e-48b9-9495-c45763e4402a"
      },
      "execution_count": 10,
      "outputs": [
        {
          "output_type": "stream",
          "name": "stdout",
          "text": [
            "First Principal Component (w1):\n",
            "[ 0.06470937  0.3787609   0.44666592  0.47188953  0.43570289 -0.42491371\n",
            "  0.2444873 ]\n",
            "Second Principal Component (w2):\n",
            "[ 0.62827587  0.26970665 -0.23437908  0.11099042 -0.20166165 -0.32031208\n",
            " -0.56745756]\n"
          ]
        }
      ]
    },
    {
      "cell_type": "code",
      "source": [
        "projections = pca.transform(stdrizedFeat)\n",
        "xk_approximations = pca.inverse_transform(projections)\n",
        "\n",
        "print('sample 1')\n",
        "print(pd.DataFrame({'original sample': stdrizedFeat[0], 'approx sample': xk_approximations[0], 'difference': stdrizedFeat[0] - xk_approximations[0]}))\n",
        "print('sample 2')\n",
        "print(pd.DataFrame({'original sample': stdrizedFeat[1], 'approx sample': xk_approximations[1], 'difference': stdrizedFeat[1] - xk_approximations[1]}))"
      ],
      "metadata": {
        "colab": {
          "base_uri": "https://localhost:8080/"
        },
        "id": "-uJWoXOSFD2U",
        "outputId": "7132271f-0d79-4478-ed9e-05c6b37a6828"
      },
      "execution_count": 11,
      "outputs": [
        {
          "output_type": "stream",
          "name": "stdout",
          "text": [
            "sample 1\n",
            "   original sample  approx sample  difference\n",
            "0        -1.371815      -1.359070   -0.012744\n",
            "1         1.254181       1.175120    0.079061\n",
            "2         2.749841       2.865901   -0.116060\n",
            "3         1.953894       2.066961   -0.113067\n",
            "4         2.976687       2.723316    0.253371\n",
            "5        -1.227511      -1.270778    0.043267\n",
            "6         2.680129       2.745306   -0.065177\n",
            "sample 2\n",
            "   original sample  approx sample  difference\n",
            "0        -1.301562      -1.264011   -0.037552\n",
            "1         1.227717       1.220635    0.007082\n",
            "2         2.640475       2.836754   -0.196279\n",
            "3         2.135338       2.089930    0.045408\n",
            "4         3.030779       2.698926    0.331852\n",
            "5        -1.213622      -1.324499    0.110877\n",
            "6         2.534733       2.663512   -0.128778\n"
          ]
        }
      ]
    }
  ]
}
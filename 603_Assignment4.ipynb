{
  "nbformat": 4,
  "nbformat_minor": 0,
  "metadata": {
    "colab": {
      "provenance": [],
      "toc_visible": true
    },
    "kernelspec": {
      "name": "python3",
      "display_name": "Python 3"
    },
    "language_info": {
      "name": "python"
    }
  },
  "cells": [
    {
      "cell_type": "markdown",
      "source": [
        "# Question 2 (a)\n",
        "First we will calculate vector w using python only and without using any machine learning libraries (i.e. sklearn)"
      ],
      "metadata": {
        "id": "EtlbPg_Y4Tea"
      }
    },
    {
      "cell_type": "code",
      "source": [
        "import pandas as pd\n",
        "import numpy as np\n",
        "data = pd.read_csv('DiabetesTraining.csv')\n",
        "\n",
        "features = ['age', 'bmi', 'HbA1c_level', 'blood_glucose_level']\n",
        "X = data[features]\n",
        "y = data['diabetes']\n",
        "\n",
        "X_standardized = X / X.std()\n",
        "\n",
        "mean_0 = X_standardized[y == 0].mean()\n",
        "mean_1 = X_standardized[y == 1].mean()\n",
        "\n",
        "S_w = np.zeros((len(features), len(features)))\n",
        "for i in range(X_standardized.shape[0]):\n",
        "    if y[i] == 0:\n",
        "        row = (X_standardized.iloc[i] - mean_0).values.reshape(len(features), 1)\n",
        "    else:\n",
        "        row = (X_standardized.iloc[i] - mean_1).values.reshape(len(features), 1)\n",
        "    S_w += row @ row.T\n",
        "\n",
        "mean_diff = (mean_1 - mean_0).values.reshape(len(features), 1)\n",
        "S_b = (y[y == 0].shape[0] * mean_diff @ mean_diff.T)\n",
        "\n",
        "# Get eigenvalues and vectors for S_b and S_w\n",
        "eigvals, eigvecs = np.linalg.eig(np.linalg.inv(S_w) @ S_b)\n",
        "\n",
        "# The eigenvector corresponding to the largest eigenvalue is the LDA vector w\n",
        "w = eigvecs[:, np.argmax(eigvals)]\n",
        "print(\"LDA vector w:\", w)"
      ],
      "metadata": {
        "colab": {
          "base_uri": "https://localhost:8080/"
        },
        "id": "8gI6R46-aJya",
        "outputId": "06852005-8108-4d22-a371-78e3199ba897"
      },
      "execution_count": null,
      "outputs": [
        {
          "output_type": "stream",
          "name": "stdout",
          "text": [
            "LDA vector w: [0.21704954 0.26374165 0.72404695 0.59923773]\n"
          ]
        }
      ]
    },
    {
      "cell_type": "markdown",
      "source": [
        "Now we will calculate vector w by using sklearn"
      ],
      "metadata": {
        "id": "dZmXgE5g5iNc"
      }
    },
    {
      "cell_type": "code",
      "source": [
        "from sklearn.discriminant_analysis import LinearDiscriminantAnalysis\n",
        "lda = LinearDiscriminantAnalysis()\n",
        "lda.fit(X_standardized, y);\n",
        "w_sklearn = lda.coef_;\n",
        "print(\"LDA vector w (using sklearn):\", w_sklearn)"
      ],
      "metadata": {
        "colab": {
          "base_uri": "https://localhost:8080/"
        },
        "id": "s7vG9G-Vbml6",
        "outputId": "532dd97b-7c3d-4872-c71a-84c3f8c0ee81"
      },
      "execution_count": null,
      "outputs": [
        {
          "output_type": "stream",
          "name": "stdout",
          "text": [
            "LDA vector w (using sklearn): [[0.58625292 0.71236874 1.95565779 1.61854689]]\n"
          ]
        }
      ]
    },
    {
      "cell_type": "markdown",
      "source": [
        "We can observe that the vector we calculated using sklearn looks different than the one we calculated initially. Is it though? Let's check..."
      ],
      "metadata": {
        "id": "PkgWWPq35754"
      }
    },
    {
      "cell_type": "code",
      "source": [
        "# Normalize both vectors\n",
        "w_sklearn_normalized = w_sklearn / np.linalg.norm(w_sklearn)\n",
        "w_normalized = w / np.linalg.norm(w)\n",
        "\n",
        "is_proportional = np.allclose(w_sklearn_normalized, w_normalized)\n",
        "print(\"Are the two vectors proportional?\", is_proportional)"
      ],
      "metadata": {
        "colab": {
          "base_uri": "https://localhost:8080/"
        },
        "id": "wTygEUaBuBze",
        "outputId": "0368831d-b244-4234-cad1-5ec1e65293fd"
      },
      "execution_count": null,
      "outputs": [
        {
          "output_type": "stream",
          "name": "stdout",
          "text": [
            "Are the two vectors proportional? True\n"
          ]
        }
      ]
    },
    {
      "cell_type": "markdown",
      "source": [
        "Both vectors are correct since they point in the same direction but are scaled differently. The absolute values of the coefficients do not matter for LDA, only the direction of the discriminant vector.\n",
        "\n",
        "sklearn LDA: It optimizes the separation of classes and typically returns the vector normalized in a certain way.\n",
        "\n",
        "Manual Calculation: Depending on how you solve the eigenvalue problem and normalize the eigenvector, you may get a different scaling."
      ],
      "metadata": {
        "id": "WkKXk_dN7J6z"
      }
    },
    {
      "cell_type": "markdown",
      "source": [
        "# Question 2 (b)"
      ],
      "metadata": {
        "id": "QCYOb8Oa9eu4"
      }
    },
    {
      "cell_type": "code",
      "source": [
        "df= pd.read_csv('DiabetesTraining.csv')\n",
        "df2 = df;\n",
        "df2['gender'] = df2['gender'].map({'Female': 0, 'Male':1})\n",
        "df2['smoking_history'] = df2['smoking_history'].map({'ever': 0, 'current': 1, 'not current': 2, 'never': 3, 'former': 4, 'No Info': 5})\n",
        "X = df2[['gender', 'age','hypertension','heart_disease','smoking_history','bmi','HbA1c_level','blood_glucose_level']]\n",
        "y = df['diabetes']\n",
        "def gini_impurity(y):\n",
        "    p1 = np.sum(y == 1) / len(y)\n",
        "    p0 = np.sum(y == 0) / len(y)\n",
        "    return 1 - p1**2 - p0**2\n",
        "\n",
        "gini_before = gini_impurity(y)\n",
        "\n",
        "hypertension = X['hypertension']\n",
        "y_hyper_1 = y[hypertension == 1]\n",
        "y_hyper_0 = y[hypertension == 0]\n",
        "\n",
        "gini_hyper_1 = gini_impurity(y_hyper_1)\n",
        "gini_hyper_0 = gini_impurity(y_hyper_0)\n",
        "\n",
        "weight_hyper_1 = len(y_hyper_1) / len(y)\n",
        "weight_hyper_0 = len(y_hyper_0) / len(y)\n",
        "gini_after_hyper = weight_hyper_1 * gini_hyper_1 + weight_hyper_0 * gini_hyper_0\n",
        "\n",
        "heart_disease = X['heart_disease']\n",
        "y_hd_1 = y[heart_disease == 1]\n",
        "y_hd_0 = y[heart_disease == 0]\n",
        "\n",
        "gini_hd_1 = gini_impurity(y_hd_1)\n",
        "gini_hd_0 = gini_impurity(y_hd_0)\n",
        "\n",
        "weight_hd_1 = len(y_hd_1) / len(y)\n",
        "weight_hd_0 = len(y_hd_0) / len(y)\n",
        "gini_after_hd = weight_hd_1 * gini_hd_1 + weight_hd_0 * gini_hd_0\n",
        "\n",
        "print(f\"Gini impurity before splitting: {gini_before}\\n\")\n",
        "print(f\"Gini impurity after splitting on 'hypertension': {gini_after_hyper}\")\n",
        "print(f\"Gini impurity after splitting on 'heart disease': {gini_after_hd}\")"
      ],
      "metadata": {
        "colab": {
          "base_uri": "https://localhost:8080/"
        },
        "id": "APQOn1Te9kFl",
        "outputId": "ac5ba598-1d62-4de0-d01e-1a8a08f5aa69"
      },
      "execution_count": null,
      "outputs": [
        {
          "output_type": "stream",
          "name": "stdout",
          "text": [
            "Gini impurity before splitting: 0.14711045401222633\n",
            "\n",
            "Gini impurity after splitting on 'hypertension': 0.14295615100629253\n",
            "Gini impurity after splitting on 'heart disease': 0.14601404503959087\n"
          ]
        }
      ]
    },
    {
      "cell_type": "code",
      "source": [
        "def entropy(y):\n",
        "    p1 = np.sum(y == 1) / len(y)\n",
        "    p0 = np.sum(y == 0) / len(y)\n",
        "    if p1 == 0 or p0 == 0:\n",
        "        return 0\n",
        "    return -p1 * np.log2(p1) - p0 * np.log2(p0)\n",
        "\n",
        "entropy_before = entropy(y)\n",
        "\n",
        "y_hyper_1 = y[hypertension == 1]\n",
        "y_hyper_0 = y[hypertension == 0]\n",
        "\n",
        "entropy_hyper_1 = entropy(y_hyper_1)\n",
        "entropy_hyper_0 = entropy(y_hyper_0)\n",
        "\n",
        "weighted_entropy_hyper = (len(y_hyper_1) / len(y)) * entropy_hyper_1 + (len(y_hyper_0) / len(y)) * entropy_hyper_0\n",
        "\n",
        "info_gain_entropy_hyper = entropy_before - weighted_entropy_hyper\n",
        "\n",
        "y_hd_1 = y[heart_disease == 1]\n",
        "y_hd_0 = y[heart_disease == 0]\n",
        "\n",
        "entropy_hd_1 = entropy(y_hd_1)\n",
        "entropy_hd_0 = entropy(y_hd_0)\n",
        "\n",
        "weighted_entropy_hd = (len(y_hd_1) / len(y)) * entropy_hd_1 + (len(y_hd_0) / len(y)) * entropy_hd_0\n",
        "\n",
        "info_gain_entropy_hd = entropy_before - weighted_entropy_hd\n",
        "\n",
        "print(f\"Information gain for 'hypertension': {info_gain_entropy_hyper}\")\n",
        "print(f\"Information gain for 'heart disease': {info_gain_entropy_hd}\")\n"
      ],
      "metadata": {
        "colab": {
          "base_uri": "https://localhost:8080/"
        },
        "id": "w6a8jhEHD367",
        "outputId": "4e3476ef-dfda-414f-f83c-b831bc6a1e58"
      },
      "execution_count": null,
      "outputs": [
        {
          "output_type": "stream",
          "name": "stdout",
          "text": [
            "Information gain for 'hypertension': 0.014297005653686634\n",
            "Information gain for 'heart disease': 0.003982146278906973\n"
          ]
        }
      ]
    }
  ]
}